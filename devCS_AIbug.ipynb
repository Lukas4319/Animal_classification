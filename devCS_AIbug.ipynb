{
  "nbformat": 4,
  "nbformat_minor": 0,
  "metadata": {
    "colab": {
      "provenance": [],
      "authorship_tag": "ABX9TyMMJJHC/4KfglF+Wd29D5y0",
      "include_colab_link": true
    },
    "kernelspec": {
      "name": "python3",
      "display_name": "Python 3"
    },
    "language_info": {
      "name": "python"
    }
  },
  "cells": [
    {
      "cell_type": "markdown",
      "metadata": {
        "id": "view-in-github",
        "colab_type": "text"
      },
      "source": [
        "<a href=\"https://colab.research.google.com/github/Lukas4319/Animal_classification/blob/devCS-AIbug/devCS_AIbug.ipynb\" target=\"_parent\"><img src=\"https://colab.research.google.com/assets/colab-badge.svg\" alt=\"Open In Colab\"/></a>"
      ]
    },
    {
      "cell_type": "markdown",
      "source": [
        "# Model Train"
      ],
      "metadata": {
        "id": "qVNJShJTwQm5"
      }
    },
    {
      "cell_type": "code",
      "source": [
        "if new_model_train:\n",
        "    optimizer = optim.AdamW(model.parameters(), lr = LR)\n",
        "    trainer = Trainer(model=model,\n",
        "                      train_loader=train_DL,\n",
        "                      val_loader=val_DL,\n",
        "                      criterion=criterion,\n",
        "                      optimizer=optimizer,\n",
        "                      device=DEVICE)\n",
        "    trainer.set_scheduler(step_size=LR_STEP, gamma=LR_GAMMA)\n",
        "    history = trainer.train(epochs=EPOCH,\n",
        "                            save_model_path=save_model_path,\n",
        "                            log_wandb=False)\n",
        "if new_model_train:\n",
        "    optimizer = optim.AdamW(model.parameters(), lr = LR)\n",
        "    trainer = Trainer(model=load_model,\n",
        "                      train_loader=train_DL,\n",
        "                      val_loader=val_DL,\n",
        "                      criterion=criterion,\n",
        "                      optimizer=optimizer,\n",
        "                      device=DEVICE)\n",
        "    trainer.set_scheduler(step_size=LR_STEP, gamma=LR_GAMMA)\n",
        "    history = trainer.train(epochs=EPOCH,\n",
        "                            save_model_path=save_model_path,\n",
        "                            log_wandb=False)"
      ],
      "metadata": {
        "id": "Z7yh2ksRSG3B",
        "collapsed": true
      },
      "execution_count": null,
      "outputs": []
    },
    {
      "cell_type": "markdown",
      "source": [
        "# Model Load"
      ],
      "metadata": {
        "id": "PIjv3DQiwTqV"
      }
    },
    {
      "cell_type": "code",
      "source": [
        "load_model = model.load_state_dict(torch.load(save_model_path))"
      ],
      "metadata": {
        "id": "q3nwi0VfwTOp"
      },
      "execution_count": null,
      "outputs": []
    },
    {
      "cell_type": "markdown",
      "source": [
        "# Model Test"
      ],
      "metadata": {
        "id": "hfPF1cIiwnjp"
      }
    },
    {
      "cell_type": "code",
      "source": [
        "test_loss, test_acc = trainer.evaluate(test_DL)\n",
        "print(f\"Test Loss: {test_loss:.4f}, Test Accuracy: {test_acc:.2f}%\")"
      ],
      "metadata": {
        "id": "BJ-p35siwnPM"
      },
      "execution_count": null,
      "outputs": []
    }
  ]
}