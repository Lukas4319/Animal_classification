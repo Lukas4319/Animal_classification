{
  "nbformat": 4,
  "nbformat_minor": 0,
  "metadata": {
    "colab": {
      "provenance": [],
      "authorship_tag": "ABX9TyOzT74Wg2iiYitLi8ARsMbB",
      "include_colab_link": true
    },
    "kernelspec": {
      "name": "python3",
      "display_name": "Python 3"
    },
    "language_info": {
      "name": "python"
    }
  },
  "cells": [
    {
      "cell_type": "markdown",
      "metadata": {
        "id": "view-in-github",
        "colab_type": "text"
      },
      "source": [
        "<a href=\"https://colab.research.google.com/github/Lukas4319/Animal_classification/blob/devCS-AIbug/devCS_AIbug.ipynb\" target=\"_parent\"><img src=\"https://colab.research.google.com/assets/colab-badge.svg\" alt=\"Open In Colab\"/></a>"
      ]
    },
    {
      "cell_type": "markdown",
      "source": [
        "# Model 생성"
      ],
      "metadata": {
        "id": "h9meJjsERiPN"
      }
    },
    {
      "cell_type": "code",
      "source": [
        "class BasicBlock(nn.Module):\n",
        "    expansion = 1\n",
        "    def __init__(self, in_channels, inner_channels, stride = 1, projection = None):\n",
        "        super().__init__()\n",
        "\n",
        "        self.residual = nn.Sequential(nn.Conv2d(in_channels, inner_channels, 3, stride=stride, padding=1, bias=False),\n",
        "                                      nn.BatchNorm2d(inner_channels),\n",
        "                                      nn.ReLU(inplace=True),\n",
        "                                      nn.Conv2d(inner_channels, inner_channels * self.expansion, 3, padding=1, bias=False),\n",
        "                                      nn.BatchNorm2d(inner_channels))\n",
        "        self.projection = projection\n",
        "        self.relu = nn.ReLU(inplace=True)\n",
        "\n",
        "    def forward(self, x):\n",
        "\n",
        "        residual = self.residual(x)\n",
        "\n",
        "        if self.projection is not None:\n",
        "            shortcut = self.projection(x) # 점선 연결\n",
        "        else:\n",
        "            shortcut = x # 실선 연결\n",
        "\n",
        "        out = self.relu(residual + shortcut)\n",
        "        return out\n",
        "\n",
        "class Bottleneck(nn.Module):\n",
        "    expansion = 4\n",
        "    def __init__(self, in_channels, inner_channels, stride = 1, projection = None):\n",
        "        super().__init__()\n",
        "\n",
        "        self.residual = nn.Sequential(nn.Conv2d(in_channels, inner_channels, 1, bias=False),\n",
        "                                      nn.BatchNorm2d(inner_channels),\n",
        "                                      nn.ReLU(inplace=True),\n",
        "                                      nn.Conv2d(inner_channels, inner_channels, 3, stride=stride, padding=1, bias=False),\n",
        "                                      nn.BatchNorm2d(inner_channels),\n",
        "                                      nn.ReLU(inplace=True),\n",
        "                                      nn.Conv2d(inner_channels, inner_channels * self.expansion, 1, bias=False),\n",
        "                                      nn.BatchNorm2d(inner_channels * self.expansion))\n",
        "\n",
        "        self.projection = projection\n",
        "        self.relu = nn.ReLU(inplace=True)\n",
        "\n",
        "    def forward(self, x):\n",
        "        residual = self.residual(x)\n",
        "\n",
        "        if self.projection is not None:\n",
        "            shortcut = self.projection(x)\n",
        "        else:\n",
        "            shortcut = x\n",
        "\n",
        "        out = self.relu(residual + shortcut)\n",
        "        return out\n"
      ],
      "metadata": {
        "id": "sR_1EBfaRlJ6"
      },
      "execution_count": null,
      "outputs": []
    }
  ]
}