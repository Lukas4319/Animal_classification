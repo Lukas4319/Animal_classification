{
  "nbformat": 4,
  "nbformat_minor": 0,
  "metadata": {
    "colab": {
      "provenance": [],
      "authorship_tag": "ABX9TyPWSp9Tj15z3UvPTojF3sQT",
      "include_colab_link": true
    },
    "kernelspec": {
      "name": "python3",
      "display_name": "Python 3"
    },
    "language_info": {
      "name": "python"
    }
  },
  "cells": [
    {
      "cell_type": "markdown",
      "metadata": {
        "id": "view-in-github",
        "colab_type": "text"
      },
      "source": [
        "<a href=\"https://colab.research.google.com/github/Lukas4319/Animal_classification/blob/kanodap/kanodap.ipynb\" target=\"_parent\"><img src=\"https://colab.research.google.com/assets/colab-badge.svg\" alt=\"Open In Colab\"/></a>"
      ]
    },
    {
      "cell_type": "markdown",
      "source": [
        "# Train & Test"
      ],
      "metadata": {
        "id": "NN2eiwpaRRsT"
      }
    },
    {
      "cell_type": "code",
      "source": [
        "class Trainer:\n",
        "\n",
        "    def train(self, epochs, save_model_path, log_wandb=False):\n",
        "        for epoch in range(epochs):\n",
        "            start_time = time.time()\n",
        "            current_lr = self.optimizer.param_groups[0][\"lr\"]\n",
        "            print(f\"Epoch {epoch + 1}/{epochs}, LR: {current_lr}\")\n",
        "\n",
        "            train_loss, train_acc = self._run_epoch(self.train_loader, is_train=True)\n",
        "            val_loss, val_acc = self._run_epoch(self.val_loader, is_train=False)\n",
        "\n",
        "            self.history[\"train_loss\"].append(train_loss)\n",
        "            self.history[\"val_loss\"].append(val_loss)\n",
        "            self.history[\"train_acc\"].append(train_acc)\n",
        "            self.history[\"val_acc\"].append(val_acc)\n",
        "\n",
        "            if val_loss < self.best_loss:\n",
        "                self.best_loss = val_loss\n",
        "                torch.save(self.model.state_dict(), save_model_path)\n",
        "\n",
        "            if self.scheduler:\n",
        "                self.scheduler.step()\n",
        "\n",
        "            epoch_time = time.time() - start_time\n",
        "            print(\n",
        "                f\"Train Loss: {train_loss:.4f}, Val Loss: {val_loss:.4f}, \"\n",
        "                f\"Train Acc: {train_acc:.2f}%, Val Acc: {val_acc:.2f}%, Time: {epoch_time:.2f}s\"\n",
        "            )\n",
        "\n",
        "            if log_wandb:\n",
        "                wandb.log({\n",
        "                    \"train_loss\": train_loss,\n",
        "                    \"val_loss\": val_loss,\n",
        "                    \"train_acc\": train_acc,\n",
        "                    \"val_acc\": val_acc,\n",
        "                    \"epoch\": epoch,\n",
        "                })\n",
        "\n",
        "        return self.history\n",
        "\n",
        "    def evaluate(self, test_loader):\n",
        "        test_loss, test_acc = self._run_epoch(test_loader, is_train=False)\n",
        "        print(f\"Test Loss: {test_loss:.4f}, Test Accuracy: {test_acc:.2f}%\")\n",
        "        return test_loss, test_acc"
      ],
      "metadata": {
        "id": "cM-Kd9NBRQCQ"
      },
      "execution_count": null,
      "outputs": []
    }
  ]
}