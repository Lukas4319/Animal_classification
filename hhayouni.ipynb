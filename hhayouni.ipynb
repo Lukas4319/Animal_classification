{
  "nbformat": 4,
  "nbformat_minor": 0,
  "metadata": {
    "colab": {
      "provenance": [],
      "authorship_tag": "ABX9TyM12FSAhcB0K0eUBaIa77f+",
      "include_colab_link": true
    },
    "kernelspec": {
      "name": "python3",
      "display_name": "Python 3"
    },
    "language_info": {
      "name": "python"
    }
  },
  "cells": [
    {
      "cell_type": "markdown",
      "metadata": {
        "id": "view-in-github",
        "colab_type": "text"
      },
      "source": [
        "<a href=\"https://colab.research.google.com/github/Lukas4319/Animal_classification/blob/hhayouni/hhayouni.ipynb\" target=\"_parent\"><img src=\"https://colab.research.google.com/assets/colab-badge.svg\" alt=\"Open In Colab\"/></a>"
      ]
    },
    {
      "cell_type": "code",
      "execution_count": null,
      "metadata": {
        "id": "oj4l2IaEAp7k"
      },
      "outputs": [],
      "source": []
    },
    {
      "cell_type": "markdown",
      "source": [
        "# Train & Test"
      ],
      "metadata": {
        "id": "NN2eiwpaRRsT"
      }
    },
    {
      "cell_type": "code",
      "source": [
        "class Trainer:\n",
        "    def __init__(self, model, train_loader, val_loader, criterion, optimizer, device=DEVICE):\n",
        "        self.model = model.to(device)\n",
        "        self.train_loader = train_loader\n",
        "        self.val_loader = val_loader\n",
        "        self.criterion = criterion\n",
        "        self.optimizer = optimizer\n",
        "        self.device = device\n",
        "        self.scheduler = None\n",
        "        self.history = {\n",
        "            \"train_loss\": [],\n",
        "            \"val_loss\": [],\n",
        "            \"train_acc\": [],\n",
        "            \"val_acc\": [],\n",
        "        }\n",
        "        self.best_loss = float(\"inf\")\n",
        "\n",
        "    def set_scheduler(self, step_size, gamma=0.1):\n",
        "        self.scheduler = StepLR(self.optimizer, step_size=step_size, gamma=gamma)\n",
        "\n",
        "    def _run_epoch(self, loader, is_train=True):\n",
        "        mode = \"train\" if is_train else \"val\"\n",
        "        self.model.train() if is_train else self.model.eval()\n",
        "\n",
        "        running_loss = 0\n",
        "        correct = 0\n",
        "        total = 0\n",
        "\n",
        "        for x_batch, y_batch in tqdm(loader, desc=f\"{mode} Epoch\", leave=False):\n",
        "            x_batch, y_batch = x_batch.to(self.device), y_batch.to(self.device)\n",
        "            with torch.set_grad_enabled(is_train):\n",
        "                y_pred = self.model(x_batch)\n",
        "                loss = self.criterion(y_pred, y_batch)\n",
        "\n",
        "                if is_train:\n",
        "                    self.optimizer.zero_grad()\n",
        "                    loss.backward()\n",
        "                    self.optimizer.step()\n",
        "\n",
        "            running_loss += loss.item() * x_batch.size(0)\n",
        "            correct += (y_pred.argmax(1) == y_batch).sum().item()\n",
        "            total += x_batch.size(0)\n",
        "\n",
        "        avg_loss = running_loss / total\n",
        "        accuracy = correct / total * 100\n",
        "        return avg_loss, accuracy\n"
      ],
      "metadata": {
        "id": "PbtW0o1KBGBB"
      },
      "execution_count": null,
      "outputs": []
    }
  ]
}